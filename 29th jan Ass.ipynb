{
 "cells": [
  {
   "cell_type": "code",
   "execution_count": 1,
   "id": "312b75da-079a-40ac-8d52-1ecb112812fc",
   "metadata": {},
   "outputs": [],
   "source": [
    "# Answer-1) Python programming language developed by 'Guido van Rossum'."
   ]
  },
  {
   "cell_type": "code",
   "execution_count": 3,
   "id": "c72e0ab6-63f3-46bf-a923-2728f10c174c",
   "metadata": {},
   "outputs": [],
   "source": [
    "# Answer-2) Object oriented programming,Functional programming and structured programming fully supported.\n",
    "            "
   ]
  },
  {
   "cell_type": "code",
   "execution_count": null,
   "id": "316397d6-d851-4253-b1cc-5f850f0299b7",
   "metadata": {},
   "outputs": [],
   "source": [
    "# Answer-3) Yes,Python is a case-sensitive language."
   ]
  },
  {
   "cell_type": "code",
   "execution_count": null,
   "id": "11884004-4b33-4e9d-9593-60554e29ffbf",
   "metadata": {},
   "outputs": [],
   "source": [
    "# Answer-4) The correct extension of python is .py"
   ]
  },
  {
   "cell_type": "code",
   "execution_count": null,
   "id": "3be73145-860d-4cdc-8620-103f084f4843",
   "metadata": {},
   "outputs": [],
   "source": [
    "# Answer-5) there are a lot of languages which have been implemented using both compilers and interpreters,including C,Pascal as well as python."
   ]
  },
  {
   "cell_type": "code",
   "execution_count": null,
   "id": "c96b5f62-5a36-4734-83b8-0dfb8440ea8b",
   "metadata": {},
   "outputs": [],
   "source": [
    "# Answer-6) A Python program is constructed from code blocks.A block is a piece of Python program text that is executed as a unit.the following are blocks: a module, a function body and a class definition."
   ]
  },
  {
   "cell_type": "code",
   "execution_count": null,
   "id": "e294791c-605d-4a1f-b3a5-413682d0ecba",
   "metadata": {},
   "outputs": [],
   "source": [
    "# Answer-7) Hash character(#)"
   ]
  },
  {
   "cell_type": "code",
   "execution_count": null,
   "id": "0c3647bf-7952-4282-9246-765ccb5978c8",
   "metadata": {},
   "outputs": [],
   "source": [
    "# Answer-8) The function sys.version can help us to find the version of python that we are currently working on."
   ]
  },
  {
   "cell_type": "code",
   "execution_count": null,
   "id": "85647033-bdbe-4e51-97e4-095acb77b6a1",
   "metadata": {},
   "outputs": [],
   "source": [
    "# Answer-9) 'lambda'"
   ]
  },
  {
   "cell_type": "code",
   "execution_count": null,
   "id": "4ab0ef38-cefb-44dc-bc72-6cf5f8f06e1b",
   "metadata": {},
   "outputs": [],
   "source": [
    "# Answer-10) pip stands for 'preferred installer progranm'.\n"
   ]
  },
  {
   "cell_type": "code",
   "execution_count": null,
   "id": "f6fef141-f93d-446e-bb75-74b8597f3691",
   "metadata": {},
   "outputs": [],
   "source": [
    "# Answer-11) print() function,type()function,dir() function,input() function,max() function,sorted() function. "
   ]
  },
  {
   "cell_type": "code",
   "execution_count": null,
   "id": "87bd13d0-082e-4a33-af79-4e57c086dba4",
   "metadata": {},
   "outputs": [],
   "source": [
    "# Answer-12) An identifier can have a maximum length of 79 characters in python."
   ]
  },
  {
   "cell_type": "code",
   "execution_count": null,
   "id": "72b588ea-3b8c-4299-886d-43998feac7a5",
   "metadata": {},
   "outputs": [],
   "source": [
    "# Answer-13) There are following benefit using python\n",
    "#Easy to read ,lean and write.\n",
    "# Improved Productivity.\n",
    "# Interpreted language.\n",
    "# Dynamically typed.\n",
    "# Free and Open-Source."
   ]
  },
  {
   "cell_type": "code",
   "execution_count": null,
   "id": "30fec8da-3d45-4881-8d46-8cb7c5644983",
   "metadata": {},
   "outputs": [],
   "source": [
    "# Answer-14) Memory management in Python involves a private heap containing all Python objects and data structures."
   ]
  },
  {
   "cell_type": "code",
   "execution_count": null,
   "id": "efbb60e7-fd30-459d-8701-e01c7605f1e8",
   "metadata": {},
   "outputs": [],
   "source": [
    "# Answer-15) The complete path of python.exe can be added by:\n",
    "\n",
    "'''Right-clicking This PC and going to Properties.\n",
    "\n",
    "Clicking on the Advanced system settings in the menu on the left.\n",
    "\n",
    "Clicking on the Environment Variables button o​n the bottom right.\n",
    "\n",
    "In the System variables section, selecting the Path variable and clicking on Edit. The next screen will show all the directories that are currently a part of the PATH variable.\n",
    "\n",
    "Clicking on New and entering Python’s install directory.'''"
   ]
  },
  {
   "cell_type": "code",
   "execution_count": null,
   "id": "3a78ecfb-d952-4f67-abdc-5b1ffa0f7089",
   "metadata": {},
   "outputs": [],
   "source": [
    "# Answer-16) Indentation refers to the spaces at the beginning of a code line.\n",
    "# Where in other programming languages the indentation in code is for readability only, the indentation in Python is very important.\n",
    "# Python uses indentation to indicate a block of code."
   ]
  }
 ],
 "metadata": {
  "kernelspec": {
   "display_name": "Python 3 (ipykernel)",
   "language": "python",
   "name": "python3"
  },
  "language_info": {
   "codemirror_mode": {
    "name": "ipython",
    "version": 3
   },
   "file_extension": ".py",
   "mimetype": "text/x-python",
   "name": "python",
   "nbconvert_exporter": "python",
   "pygments_lexer": "ipython3",
   "version": "3.10.8"
  }
 },
 "nbformat": 4,
 "nbformat_minor": 5
}
